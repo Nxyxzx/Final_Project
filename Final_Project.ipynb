{
 "cells": [
  {
   "cell_type": "markdown",
   "id": "4cee42fa-fcb9-4d6d-9cfd-4401172c4dd6",
   "metadata": {},
   "source": [
    "# My Data Science Notebook"
   ]
  },
  {
   "cell_type": "markdown",
   "id": "7eef6a6f-f6ee-4666-81ad-d426af5d132d",
   "metadata": {
    "jp-MarkdownHeadingCollapsed": true
   },
   "source": [
    "## Introduction\n",
    "\n",
    "This notebook highlights some of the essential elements of data science, including programming languages, libraries, tools, and basic code examples using Python."
   ]
  },
  {
   "cell_type": "markdown",
   "id": "f2e57761-3ecd-48d7-ada9-b4d2a93720e3",
   "metadata": {},
   "source": [
    "## Data Science Languages\n",
    "\n",
    "Some of the most popular languages used in data science include:\n",
    "\n",
    "- R  \n",
    "- Python \n",
    "- SQL  "
   ]
  },
  {
   "cell_type": "markdown",
   "id": "618a973b-6072-4ea7-a3d7-6d26907ed9fd",
   "metadata": {},
   "source": [
    "## Data Science Libraries\n",
    "\n",
    "Key libraries used in data science include:\n",
    "\n",
    "- Pandas  \n",
    "- NumPy  \n",
    "- Scikit-learn  \n",
    "- Matplotlib  \n",
    "- TensorFlow  "
   ]
  },
  {
   "cell_type": "markdown",
   "id": "e52b2e99-4757-4df1-8ac3-16b648b1a097",
   "metadata": {},
   "source": [
    "## Data Science Tools\n",
    "\n",
    "| Tool             | Description                            |\n",
    "|------------------|----------------------------------------|\n",
    "| Jupyter Notebook | Web-based coding environment           |\n",
    "| RStudio          | IDE for R programming                  |\n",
    "| Apache Spark     | Distributed big data processing engine |"
   ]
  },
  {
   "cell_type": "markdown",
   "id": "f630967e-0578-4b78-87cb-1538fa1c82f5",
   "metadata": {},
   "source": [
    "## Examples of Arithmetic Expressions\n",
    "\n",
    "Below is a simple example of how Python can be used to perform arithmetic operations."
   ]
  },
  {
   "cell_type": "code",
   "execution_count": 7,
   "id": "e8c78421-133b-4ee1-a513-24442afff644",
   "metadata": {},
   "outputs": [
    {
     "data": {
      "text/plain": [
       "17"
      ]
     },
     "execution_count": 7,
     "metadata": {},
     "output_type": "execute_result"
    }
   ],
   "source": [
    "# Multiply and add numbers\n",
    "result = (3 * 4) + 5\n",
    "result"
   ]
  },
  {
   "cell_type": "code",
   "execution_count": 8,
   "id": "f92d54ef-8f25-4904-85e7-b2fbab9f39ef",
   "metadata": {},
   "outputs": [
    {
     "data": {
      "text/plain": [
       "3.3333333333333335"
      ]
     },
     "execution_count": 8,
     "metadata": {},
     "output_type": "execute_result"
    }
   ],
   "source": [
    "# Convert 200 minutes into hours\n",
    "minutes = 200\n",
    "hours = minutes / 60\n",
    "hours"
   ]
  },
  {
   "cell_type": "markdown",
   "id": "f4db3b8a-d5df-4c2e-84ae-40f24799b384",
   "metadata": {},
   "source": [
    "## Objectives\n",
    "\n",
    "The objectives of this notebook are to:\n",
    "\n",
    "- Demonstrate basic markdown formatting  \n",
    "- List popular languages and libraries used in data science  \n",
    "- Show examples of code with arithmetic expressions  \n",
    "- Convert time using Python code  "
   ]
  },
  {
   "cell_type": "markdown",
   "id": "34e286c5-e9da-4f02-947f-c6f659de63f0",
   "metadata": {},
   "source": [
    "## Author\n",
    "\n",
    "Nicolas A Sanchez Diaz"
   ]
  }
 ],
 "metadata": {
  "kernelspec": {
   "display_name": "Python [conda env:base] *",
   "language": "python",
   "name": "conda-base-py"
  },
  "language_info": {
   "codemirror_mode": {
    "name": "ipython",
    "version": 3
   },
   "file_extension": ".py",
   "mimetype": "text/x-python",
   "name": "python",
   "nbconvert_exporter": "python",
   "pygments_lexer": "ipython3",
   "version": "3.12.7"
  }
 },
 "nbformat": 4,
 "nbformat_minor": 5
}
